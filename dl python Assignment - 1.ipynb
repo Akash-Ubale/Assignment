{
 "cells": [
  {
   "cell_type": "markdown",
   "metadata": {},
   "source": [
    "# Task 1"
   ]
  },
  {
   "cell_type": "markdown",
   "metadata": {},
   "source": [
    "1. Write  a  program  which  will  find  all  such  numbers  which  are  divisible  by  7  but  are  not  a  multiple of  5,  between  2000  and  3200  (both  included).  The  numbers  obtained  should  be  printed  in  a comma-separated  sequence  on  a  single  line. "
   ]
  },
  {
   "cell_type": "code",
   "execution_count": 1,
   "metadata": {
    "scrolled": false
   },
   "outputs": [
    {
     "name": "stdout",
     "output_type": "stream",
     "text": [
      "[2030, 2065, 2100, 2135, 2170, 2205, 2240, 2275, 2310, 2345, 2380, 2415, 2450, 2485, 2520, 2555, 2590, 2625, 2660, 2695, 2730, 2765, 2800, 2835, 2870, 2905, 2940, 2975, 3010, 3045, 3080, 3115, 3150, 3185]\n"
     ]
    }
   ],
   "source": [
    "# creating the list of required range. 2000 to 3200 both included\n",
    "\n",
    "l=[]\n",
    "i=0\n",
    "#iterating the for loop over the given range.\n",
    "for i in range(2000,3201):\n",
    "    if i%7==0 and i%5==0:\n",
    "        l.append(i)       # storing the value in the list.\n",
    "        \n",
    "print(l)\n",
    "    \n"
   ]
  },
  {
   "cell_type": "code",
   "execution_count": null,
   "metadata": {},
   "outputs": [],
   "source": []
  },
  {
   "cell_type": "markdown",
   "metadata": {},
   "source": [
    "2.   Write  a  Python  program  to  accept  the  user's  first  and  last  name  and  then  getting  them  printed  in the  the  reverse  order  with  a  space  between  first  name  and  last  name. "
   ]
  },
  {
   "cell_type": "code",
   "execution_count": 2,
   "metadata": {},
   "outputs": [
    {
     "name": "stdout",
     "output_type": "stream",
     "text": [
      "Enter your first name: Akash\n",
      "Enter your last name: Ubale\n",
      "Ubale Akash\n"
     ]
    }
   ],
   "source": [
    "fn=input(\"Enter your first name: \")\n",
    "ln=input(\"Enter your last name: \")\n",
    "print(ln + \" \" + fn)"
   ]
  },
  {
   "cell_type": "code",
   "execution_count": null,
   "metadata": {},
   "outputs": [],
   "source": []
  },
  {
   "cell_type": "markdown",
   "metadata": {},
   "source": [
    "3.   Write  a  Python  program  to  find  the  volume  of  a  sphere  with  diameter  12  cm.   Formula:  V=4/3  *  π  *  r  3 "
   ]
  },
  {
   "cell_type": "code",
   "execution_count": 3,
   "metadata": {
    "scrolled": true
   },
   "outputs": [
    {
     "name": "stdout",
     "output_type": "stream",
     "text": [
      "Volume of sphere :  904.608\n"
     ]
    }
   ],
   "source": [
    "d=12\n",
    "r=d/2\n",
    "v=(4/3)*3.141*r**3\n",
    "print(\"Volume of sphere : \",v)"
   ]
  }
 ],
 "metadata": {
  "kernelspec": {
   "display_name": "Python 3",
   "language": "python",
   "name": "python3"
  },
  "language_info": {
   "codemirror_mode": {
    "name": "ipython",
    "version": 3
   },
   "file_extension": ".py",
   "mimetype": "text/x-python",
   "name": "python",
   "nbconvert_exporter": "python",
   "pygments_lexer": "ipython3",
   "version": "3.7.6"
  }
 },
 "nbformat": 4,
 "nbformat_minor": 4
}
