{
 "cells": [
  {
   "cell_type": "markdown",
   "metadata": {},
   "source": [
    "2.   Create  the  below  pattern  using  nested  for  loop  in  Python. *   *  *   *  *  *   *  *  *  *   *  *  *  *  *   *  *  *  *   *  *  *   *  *   * "
   ]
  },
  {
   "cell_type": "code",
   "execution_count": 2,
   "metadata": {},
   "outputs": [
    {
     "name": "stdout",
     "output_type": "stream",
     "text": [
      "*\n",
      "**\n",
      "***\n",
      "****\n",
      "*****\n",
      "****\n",
      "***\n",
      "**\n",
      "*\n"
     ]
    }
   ],
   "source": [
    "for i in range (1,6): # to print the triangle from top to big-base\n",
    "    print('*'*i)      \n",
    "for j in range (5,0,-1): # to print the triangle from base to end-tip\n",
    "    print('*'*j)"
   ]
  },
  {
   "cell_type": "markdown",
   "metadata": {},
   "source": [
    "3.   Write  a  Python  program  to  reverse  a  word  after  accepting  the  input  from  the  user. \n",
    "Sample  Output: ; \n",
    "Input  word:  AcadGild   ; \n",
    "Output:  dilGdacA "
   ]
  },
  {
   "cell_type": "code",
   "execution_count": 7,
   "metadata": {},
   "outputs": [
    {
     "name": "stdout",
     "output_type": "stream",
     "text": [
      "Input Word: ineuron\n",
      "Output: norueni"
     ]
    }
   ],
   "source": [
    "# Taking input n saving as a list\n",
    "word = list(input(\"Input Word: \"))\n",
    "word.reverse()            # to reverse the list\n",
    "n = len(word)             # to find the length of list\n",
    "print(\"Output: \",end=\"\")  \n",
    "for i in range(0,n):      # to print the list as a string and not as a list\n",
    "    print(word[i],end=\"\")"
   ]
  },
  {
   "cell_type": "code",
   "execution_count": null,
   "metadata": {},
   "outputs": [],
   "source": []
  }
 ],
 "metadata": {
  "kernelspec": {
   "display_name": "Python 3",
   "language": "python",
   "name": "python3"
  },
  "language_info": {
   "codemirror_mode": {
    "name": "ipython",
    "version": 3
   },
   "file_extension": ".py",
   "mimetype": "text/x-python",
   "name": "python",
   "nbconvert_exporter": "python",
   "pygments_lexer": "ipython3",
   "version": "3.7.2"
  }
 },
 "nbformat": 4,
 "nbformat_minor": 4
}
