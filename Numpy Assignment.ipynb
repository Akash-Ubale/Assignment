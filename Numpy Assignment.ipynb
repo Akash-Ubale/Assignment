{
 "cells": [
  {
   "cell_type": "markdown",
   "metadata": {},
   "source": [
    "1: \n",
    "Write a function so that the columns of the output matrix are powers of the input vector. \n",
    "The order of the powers is determined by the increasing boolean argument. Specifically, when increasing is False, the i-th output column is the input vector raised element-wise to the power of N - i - 1. \n",
    "HINT: Such a matrix with a geometric progression in each row is named for Alexandre- Theophile Vandermonde. \n"
   ]
  },
  {
   "cell_type": "code",
   "execution_count": 114,
   "metadata": {},
   "outputs": [
    {
     "data": {
      "text/plain": [
       "array([[  1,   1,   1,   1],\n",
       "       [  1,   2,   4,   8],\n",
       "       [  1,   3,   9,  27],\n",
       "       [  1,   4,  16,  64],\n",
       "       [  1,   5,  25, 125]])"
      ]
     },
     "execution_count": 114,
     "metadata": {},
     "output_type": "execute_result"
    }
   ],
   "source": [
    "import numpy as np\n",
    "\n",
    "def vandor_matrix(ip,n,increasing=False):\n",
    "    \n",
    "    if increasing:\n",
    "        op_vender1 = np.array([x**i for x in ip for i in range(n)])\n",
    "        op_matx = op_vender1.reshape(ip.size,n)\n",
    "        \n",
    "    elif not increasing:\n",
    "        op_vender = np.array([x**(n-i-1) for x in ip for i in range(n)])\n",
    "        op_matx = op_vender.reshape(ip.size,n)\n",
    "   \n",
    "    return op_matx\n",
    "\n",
    "#vandor_matrix(np.array([1,2,3,4,5]),3,False)\n",
    "vandor_matrix(np.array([1,2,3,4,5]),4,True)"
   ]
  },
  {
   "cell_type": "markdown",
   "metadata": {},
   "source": [
    "2: the moving average sequence has n-k+1=10-4+1=7 values\n",
    "\n",
    "Question: Write a function to find moving average in an array over a window:\n",
    "Test it over [3, 5, 7, 2, 8, 10, 11, 65, 72, 81, 99, 100, 150] and window of 3."
   ]
  },
  {
   "cell_type": "code",
   "execution_count": 79,
   "metadata": {},
   "outputs": [
    {
     "data": {
      "text/plain": [
       "([5.0,\n",
       "  4.666666666666667,\n",
       "  5.666666666666667,\n",
       "  6.666666666666667,\n",
       "  9.666666666666666,\n",
       "  28.666666666666668,\n",
       "  49.333333333333336,\n",
       "  72.66666666666667,\n",
       "  84.0,\n",
       "  93.33333333333333,\n",
       "  116.33333333333333],\n",
       " 'length of this sequence: ',\n",
       " 11)"
      ]
     },
     "execution_count": 79,
     "metadata": {},
     "output_type": "execute_result"
    }
   ],
   "source": [
    "test = [3, 5, 7, 2, 8, 10, 11, 65, 72, 81, 99, 100, 150]\n",
    "\n",
    "def moving_avg(seq,w):\n",
    "    m=[]\n",
    "    n = len(seq)\n",
    "    for i in range(n-w+1):\n",
    "        m.append(sum(test[i:i+3])/3)\n",
    "        \n",
    "    return m,\"length of this sequence: \",len(m)\n",
    "\n",
    "moving_avg(test,3)"
   ]
  },
  {
   "cell_type": "code",
   "execution_count": null,
   "metadata": {},
   "outputs": [],
   "source": []
  }
 ],
 "metadata": {
  "kernelspec": {
   "display_name": "Python 3",
   "language": "python",
   "name": "python3"
  },
  "language_info": {
   "codemirror_mode": {
    "name": "ipython",
    "version": 3
   },
   "file_extension": ".py",
   "mimetype": "text/x-python",
   "name": "python",
   "nbconvert_exporter": "python",
   "pygments_lexer": "ipython3",
   "version": "3.7.6"
  }
 },
 "nbformat": 4,
 "nbformat_minor": 4
}
