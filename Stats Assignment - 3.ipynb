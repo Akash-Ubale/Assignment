{
 "cells": [
  {
   "cell_type": "markdown",
   "metadata": {},
   "source": [
    "**Problem Statement 1:**\n",
    "\n",
    "Blood glucose levels for obese patients have a mean of 100 with a standard deviation of 15. A researcher thinks that a diet high in raw cornstarch will have a positive effect on blood glucose levels. A sample of 36 patients who have tried the raw cornstarch diet have a mean glucose level of 108. Test the hypothesis that the raw cornstarch had an effect or not. \n"
   ]
  },
  {
   "cell_type": "markdown",
   "metadata": {},
   "source": [
    "**Answere :-**\n",
    "\n",
    "Given :\n",
    "\n",
    "Population Mean ($\\mu$) = 100\n",
    "\n",
    "Standard Deviation ($\\sigma$) = 15\n",
    "\n",
    "Sample size ($n$) = 36\n",
    "\n",
    "Sample mean ($\\bar x$) = 108\n",
    "\n",
    "Null  Hypothesis $H_0$ = Diet high in raw cornstarch **will have a positive effect** on blood glucose levels.\n",
    "\n",
    "Alternate Hypothesis $H_1$ = Diet high in raw cornstarch **will not** have any positive effect on blood glucose levels.\n",
    "\n",
    "As the confidance level is not mensioned we will check this hypothesis for 95% confidance leve.\n",
    "\n",
    "hence critical value $\\alpha$ = 1 - 0.95 = 0.05\n",
    "\n",
    "Now  Calculating the actual z-value for the problem , using the formula:\n",
    "$$ Z_c = \\frac{\\bar x - \\mu_0}{s / \\sqrt{n}}$$"
   ]
  },
  {
   "cell_type": "code",
   "execution_count": 2,
   "metadata": {},
   "outputs": [
    {
     "data": {
      "text/plain": [
       "3.2"
      ]
     },
     "execution_count": 2,
     "metadata": {},
     "output_type": "execute_result"
    }
   ],
   "source": [
    "z = (108 - 100) / (15 / (36**0.5))\n",
    "z"
   ]
  },
  {
   "cell_type": "markdown",
   "metadata": {},
   "source": [
    "$Z_c = 3.2$\n",
    "\n",
    "Now, From Z-table get the Z-score for the  𝑍𝑐.\n",
    "\n",
    "p-value = 0.9993\n",
    "\n",
    "As 0.9993 > 0.05\n",
    "\n",
    "As p-value > $\\alpha$  We Accept the Null Hypothesis $H_0$ that, Diet high in raw cornstarch **will have a positive effect** on blood glucose levels."
   ]
  },
  {
   "cell_type": "markdown",
   "metadata": {},
   "source": [
    "**Problem Statement 2:** \n",
    "\n",
    "In one state, 52% of the voters are Republicans, and 48% are Democrats. In a second state, 47% of the voters are Republicans, and 53% are Democrats. Suppose a simple random sample of 100 voters are surveyed from each state.\n",
    "\n",
    "What is the probability that the survey will show a greater percentage of Republican voters in the second state than in the first state? \n"
   ]
  },
  {
   "cell_type": "markdown",
   "metadata": {},
   "source": [
    "**Answere :**\n",
    "\n",
    "P1 = the proportion of Republican voters in the first state\n",
    "\n",
    "P2 = the proportion of Republican voters in the second state\n",
    "\n",
    "p1 = the proportion of Republican voters in the sample from the first state\n",
    "\n",
    "p2 = the proportion of Republican voters in the sample from the second state. \n",
    "\n",
    "The number of voters sampled from the first state (n1) = 100"
   ]
  },
  {
   "cell_type": "code",
   "execution_count": 3,
   "metadata": {},
   "outputs": [],
   "source": [
    "n1 = 100"
   ]
  },
  {
   "cell_type": "markdown",
   "metadata": {},
   "source": [
    "The number of voters sampled from the second state (n2) = 100."
   ]
  },
  {
   "cell_type": "code",
   "execution_count": 4,
   "metadata": {},
   "outputs": [],
   "source": [
    "n2 = 100\n",
    "\n",
    "P1 = 0.52\n",
    "\n",
    "#(1 - P1) = Q1\n",
    "Q1 = 0.48\n",
    "\n",
    "P2 = 0.47\n",
    "\n",
    "#(1 - P2) = Q2\n",
    "Q2 = 0.53\n"
   ]
  },
  {
   "cell_type": "markdown",
   "metadata": {},
   "source": [
    "The mean of the difference in sample proportions .i.e Expected Value E[p1 -p2] = P1 - P2 = mu"
   ]
  },
  {
   "cell_type": "code",
   "execution_count": 11,
   "metadata": {},
   "outputs": [
    {
     "name": "stdout",
     "output_type": "stream",
     "text": [
      "mu :  0.050000000000000044\n"
     ]
    }
   ],
   "source": [
    "mu =  P1 - P2\n",
    "print(\"mu : \",mu)"
   ]
  },
  {
   "cell_type": "markdown",
   "metadata": {},
   "source": [
    "The standard deviation of the difference (std)"
   ]
  },
  {
   "cell_type": "code",
   "execution_count": 10,
   "metadata": {},
   "outputs": [
    {
     "name": "stdout",
     "output_type": "stream",
     "text": [
      "std :  0.07061869440877536\n"
     ]
    }
   ],
   "source": [
    "import math\n",
    "std = math.sqrt(((P1 * Q1 ) / n1) + ((P2 * Q2) /n2))\n",
    "print(\"std : \",std)"
   ]
  },
  {
   "cell_type": "markdown",
   "metadata": {},
   "source": [
    "This problem requires us to find the probability that p1 is less than p2. \n",
    "\n",
    "This is equivalent to finding the probability that p1 - p2 < 0. "
   ]
  },
  {
   "cell_type": "code",
   "execution_count": 12,
   "metadata": {},
   "outputs": [],
   "source": [
    "x = 0"
   ]
  },
  {
   "cell_type": "markdown",
   "metadata": {},
   "source": [
    "To find this probability, we need to transform the random variable (p1 - p2) into a z-score. \n",
    "\n",
    "That transformation appears below."
   ]
  },
  {
   "cell_type": "code",
   "execution_count": 13,
   "metadata": {},
   "outputs": [
    {
     "name": "stdout",
     "output_type": "stream",
     "text": [
      "Z_score(p1,p2) :  -0.7080278164104213\n"
     ]
    }
   ],
   "source": [
    "Z_p1_p2 = ( x - mu)/std\n",
    "\n",
    "print(\"Z_score(p1,p2) : \",Z_p1_p2)"
   ]
  },
  {
   "cell_type": "markdown",
   "metadata": {},
   "source": [
    "From Z table we find that the probability of a z-score being -0.7082 or less is 0.24.\n",
    "\n",
    "Therefore, **the probability that the survey will show a greater percentage of Republican voters \n",
    "in the second state than in the first state is 0.24.**"
   ]
  },
  {
   "cell_type": "markdown",
   "metadata": {},
   "source": [
    "**Problem Statement 3:**\n",
    "\n",
    "You take the SAT and score 1100. The mean score for the SAT is 1026 and the standard deviation is 209. \n",
    "\n",
    "How well did you score on the test compared to the average test taker? \n"
   ]
  },
  {
   "cell_type": "markdown",
   "metadata": {},
   "source": [
    "**Answere :**\n",
    "\n",
    "The z score tells you how many standard deviations from the mean your score is"
   ]
  },
  {
   "cell_type": "code",
   "execution_count": 14,
   "metadata": {},
   "outputs": [
    {
     "name": "stdout",
     "output_type": "stream",
     "text": [
      "Z Score :  0.35406698564593303\n"
     ]
    }
   ],
   "source": [
    "x = 1100 \n",
    "mu = 1026 # Population Mean\n",
    "sd = 209  # population standard deviation\n",
    "z = ( x - mu)/sd\n",
    "\n",
    "print(\"Z Score : \",z)   "
   ]
  },
  {
   "cell_type": "markdown",
   "metadata": {},
   "source": [
    "as z=0.35,+ve Z score value Represesnt, my score is greater than mean\n",
    "\n",
    "As the above calculation shows that my score is 0.35 standard deviations above the mean"
   ]
  },
  {
   "cell_type": "code",
   "execution_count": 19,
   "metadata": {},
   "outputs": [
    {
     "name": "stdout",
     "output_type": "stream",
     "text": [
      "I scored 35% better than the average test taker\n"
     ]
    }
   ],
   "source": [
    "print(\"I scored 35% better than the average test taker\")"
   ]
  },
  {
   "cell_type": "code",
   "execution_count": null,
   "metadata": {},
   "outputs": [],
   "source": []
  }
 ],
 "metadata": {
  "kernelspec": {
   "display_name": "Python 3",
   "language": "python",
   "name": "python3"
  },
  "language_info": {
   "codemirror_mode": {
    "name": "ipython",
    "version": 3
   },
   "file_extension": ".py",
   "mimetype": "text/x-python",
   "name": "python",
   "nbconvert_exporter": "python",
   "pygments_lexer": "ipython3",
   "version": "3.7.6"
  }
 },
 "nbformat": 4,
 "nbformat_minor": 4
}
