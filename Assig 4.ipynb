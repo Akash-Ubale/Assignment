{
 "cells": [
  {
   "cell_type": "markdown",
   "metadata": {},
   "source": [
    "1.1 Write a Python Program (with class concepts) to find the area of the triangle using the below \n",
    "formula:\n",
    "\n",
    "    area = (s*(s-a)*(s-b)*(s-c)) ** 0.5\n",
    "\n",
    "Function to take the length of the sides of triangle from user should be defined in the parent \n",
    "class \n",
    "\n",
    "and function to calculate the area should be defined in subclass."
   ]
  },
  {
   "cell_type": "code",
   "execution_count": 15,
   "metadata": {},
   "outputs": [
    {
     "name": "stdout",
     "output_type": "stream",
     "text": [
      "Enter 1st side of the triangle: 12\n",
      "Enter 2nd side of the triangle: 12\n",
      "Enter 3rd side of the triangle: 12\n",
      "semiperimeter:  18.0\n",
      "Area of Triangle:  62.353829072479584\n"
     ]
    }
   ],
   "source": [
    "# creating the parent class.\n",
    "class Triangle():\n",
    "    def __init__(self):\n",
    "        self.a = float(input(\"Enter 1st side of the triangle: \"))\n",
    "        self.b = float(input(\"Enter 2nd side of the triangle: \"))\n",
    "        self.c = float(input(\"Enter 3rd side of the triangle: \"))\n",
    "\n",
    "t = Triangle() # object of the parent class.\n",
    "\n",
    "# creating the child class.\n",
    "class Area(Triangle):\n",
    "    def __init__(self):\n",
    "        self.s = (t.a + t.b + t.c)/2\n",
    "        self.cal = (self.s*(self.s-t.a)*(self.s-t.b)*(self.s-t.c)) ** 0.5\n",
    "        \n",
    "\n",
    "ar = Area()\n",
    "print('semiperimeter: ',ar.s)\n",
    "print('Area of Triangle: ',ar.cal)"
   ]
  },
  {
   "cell_type": "markdown",
   "metadata": {},
   "source": [
    "1.2  Write a function filter long words() that takes a list of words and an integer n and returns the list of words that are longer than integer n"
   ]
  },
  {
   "cell_type": "code",
   "execution_count": 2,
   "metadata": {},
   "outputs": [
    {
     "data": {
      "text/plain": [
       "['akanksha', 'gabriel', 'alexander']"
      ]
     },
     "execution_count": 2,
     "metadata": {},
     "output_type": "execute_result"
    }
   ],
   "source": [
    "l=['a','akash','amit','akanksha','andi','gabriel','alexander']\n",
    "\n",
    "def filter_long_words(lst,n):\n",
    "    new_lst=[]\n",
    "    for i in lst:\n",
    "        if len(i) > n:\n",
    "            new_lst.append(i)\n",
    "    return new_lst\n",
    "\n",
    "filter_long_words(l,5)"
   ]
  },
  {
   "cell_type": "markdown",
   "metadata": {},
   "source": [
    "2.1)  Write a Python program using function concept that maps list of words into a list of integers representing the lengths of the corresponding words.\n",
    "Hint:​ If a list [ab,cde,erty]\n",
    "is passed onto the python function output should come as[2,3,4]\n",
    "Here 2,3 and 4 are the lengths of the words in the list."
   ]
  },
  {
   "cell_type": "code",
   "execution_count": 3,
   "metadata": {},
   "outputs": [
    {
     "data": {
      "text/plain": [
       "[1, 5, 4, 8, 4, 7, 9]"
      ]
     },
     "execution_count": 3,
     "metadata": {},
     "output_type": "execute_result"
    }
   ],
   "source": [
    "def word_length(lst):    \n",
    "    t_lst = map(lambda l : len(l), lst)\n",
    "    new_lst = list(t_lst)\n",
    "    return new_lst\n",
    "\n",
    "l=['a','akash','amit','akanksha','andi','gabriel','alexander']\n",
    "word_length(l)"
   ]
  },
  {
   "cell_type": "code",
   "execution_count": null,
   "metadata": {},
   "outputs": [],
   "source": []
  }
 ],
 "metadata": {
  "kernelspec": {
   "display_name": "Python 3",
   "language": "python",
   "name": "python3"
  },
  "language_info": {
   "codemirror_mode": {
    "name": "ipython",
    "version": 3
   },
   "file_extension": ".py",
   "mimetype": "text/x-python",
   "name": "python",
   "nbconvert_exporter": "python",
   "pygments_lexer": "ipython3",
   "version": "3.7.2"
  }
 },
 "nbformat": 4,
 "nbformat_minor": 4
}
