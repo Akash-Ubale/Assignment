{
 "cells": [
  {
   "cell_type": "markdown",
   "metadata": {},
   "source": [
    "1.1   Write  a  Python  Program  to  implement  your  own  myreduce()  function  which  works  exactly  like Python's  built-in  function  reduce() "
   ]
  },
  {
   "cell_type": "code",
   "execution_count": 4,
   "metadata": {},
   "outputs": [
    {
     "name": "stdout",
     "output_type": "stream",
     "text": [
      "55\n"
     ]
    }
   ],
   "source": [
    "nums = list(range(1,11)) # defining the list\n",
    "\n",
    "# defining the replica of reduce function.\n",
    "def my_reduce(func,nums):\n",
    "    result = nums[0]\n",
    "    \n",
    "    for i in nums[1:]:\n",
    "        result = func(result,i)\n",
    "    return result\n",
    "\n",
    "def add(a,b):\n",
    "    return a+b\n",
    "    \n",
    "print(my_reduce(add,nums))"
   ]
  },
  {
   "cell_type": "markdown",
   "metadata": {},
   "source": [
    "1.2   Write  a  Python  program  to  implement  your  own  myfilter()  function  which  works  exactly  like Python's  built-in  function  filter() "
   ]
  },
  {
   "cell_type": "code",
   "execution_count": 6,
   "metadata": {},
   "outputs": [
    {
     "data": {
      "text/plain": [
       "[1, 3, 5, 7, 9]"
      ]
     },
     "execution_count": 6,
     "metadata": {},
     "output_type": "execute_result"
    }
   ],
   "source": [
    "l = list(range(1,11))\n",
    "\n",
    "def myfilter(func,lst): # defining myfilter function.\n",
    "    mylst = []\n",
    "    for i in lst :           # iterating over the list\n",
    "        if func(i) == True:  # checking if the condition is true.\n",
    "            mylst.append(i)  # adding true values in new list.\n",
    "    return mylst\n",
    "\n",
    "a=list(myfilter(lambda a : a%2==1 ,l))\n",
    "a"
   ]
  },
  {
   "cell_type": "markdown",
   "metadata": {},
   "source": [
    "2.   Implement  List  comprehensions  to  produce  the  following  lists. Write  List  comprehensions  to  produce  the  following  Lists \n",
    "\n",
    "['x','xx','xxx','xxxx','y','yy','yyy','yyyy','z','zz','zzz','zzzz']\n",
    "\n",
    "['x','y','z','xx','yy','zz','xx','yy','zz','xxxx','yyyy','zzzz']\n",
    "\n",
    "[[2],[3],[4],[3],[4],[5],[4],[5],[6]]\n",
    "\n",
    "[[2,3,4,5],[3,4,5,6],[4,5,6,7],[5,6,7,8]]\n",
    "\n",
    "[(1,1),(2,1),(3,1),(1,2),(2,2),(3,2),(1,3),(2,3),(3,3)]"
   ]
  },
  {
   "cell_type": "code",
   "execution_count": 7,
   "metadata": {},
   "outputs": [
    {
     "name": "stdout",
     "output_type": "stream",
     "text": [
      "pattern 1:  ['x', 'xx', 'xxx', 'xxxx', 'y', 'yy', 'yyy', 'yyyy', 'z', 'zz', 'zzz', 'zzzz'] \n",
      "\n",
      "pattern 2:  ['x', 'y', 'z', 'xx', 'yy', 'zz', 'xxx', 'yyy', 'zzz', 'xxxx', 'yyyy', 'zzzz'] \n",
      "\n",
      "pattern 3:  [[2], [3], [4], [3], [4], [5], [4], [5], [6]] \n",
      "\n",
      "pattern 4:  [[2, 3, 4, 5], [3, 4, 5, 6], [4, 5, 6, 7], [5, 6, 7, 8]] \n",
      "\n",
      "pattern 5:  [(1, 1), (2, 1), (3, 1), (1, 2), (2, 2), (3, 2), (1, 3), (2, 3), (3, 3)]\n"
     ]
    }
   ],
   "source": [
    "#['x','xx','xxx','xxxx','y','yy','yyy','yyyy','z','zz','zzz','zzzz']\n",
    "l = [i*n for i in ['x','y','z'] for n in range(1,5)]\n",
    "print('pattern 1: ',l,'\\n')\n",
    "\n",
    "#['x','y','z','xx','yy','zz','xx','yy','zz','xxxx','yyyy','zzzz']\n",
    "l = [i*n for i in range(1,5) for n in ['x','y','z']]\n",
    "print('pattern 2: ',l,'\\n')\n",
    "\n",
    "#[[2],[3],[4],[3],[4],[5],[4],[5],[6]]\n",
    "l = [[j] for i in range(2,5) for j in range(i,i+3)]\n",
    "print('pattern 3: ',l,'\\n')\n",
    "\n",
    "#[[2,3,4,5],[3,4,5,6],[4,5,6,7],[5,6,7,8]]\n",
    "l = [[item+num for num in range(0,4)] for item in range(2,6)]\n",
    "print('pattern 4: ',l,'\\n')\n",
    "\n",
    "#[(1,1),(2,1),(3,1),(1,2),(2,2),(3,2),(1,3),(2,3),(3,3)]\n",
    "l = [(j,i) for i in range(1,4) for j in range(1,4)]\n",
    "print('pattern 5: ',l)\n"
   ]
  }
 ],
 "metadata": {
  "kernelspec": {
   "display_name": "Python 3",
   "language": "python",
   "name": "python3"
  },
  "language_info": {
   "codemirror_mode": {
    "name": "ipython",
    "version": 3
   },
   "file_extension": ".py",
   "mimetype": "text/x-python",
   "name": "python",
   "nbconvert_exporter": "python",
   "pygments_lexer": "ipython3",
   "version": "3.7.2"
  }
 },
 "nbformat": 4,
 "nbformat_minor": 4
}
