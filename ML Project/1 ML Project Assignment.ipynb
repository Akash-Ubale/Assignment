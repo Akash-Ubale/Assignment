{
 "cells": [
  {
   "cell_type": "markdown",
   "metadata": {},
   "source": [
    "<img src=\"ml project assignment-1.png\">\n",
    "<img src=\"ml project assignment-2.png\">\n",
    "<img src=\"ml project assignment-3.png\">\n",
    "<img src=\"ml project assignment-4.png\">\n",
    "<img src=\"ml project assignment-5.png\">\n",
    "<img src=\"ml project assignment-6.png\">\n",
    "<img src=\"ml project assignment-7.png\">\n",
    "<img src=\"ml project assignment-8.png\">\n",
    "<img src=\"ml project assignment-9.png\">\n",
    "<img src=\"ml project assignment-10.png\">\n",
    "<img src=\"ml project assignment-11.png\">\n",
    "<img src=\"ml project assignment-12.png\">\n",
    "<img src=\"ml project assignment-13.png\">\n",
    "<img src=\"ml project assignment-14.png\">\n",
    "<img src=\"ml project assignment-15.png\">\n",
    "<img src=\"ml project assignment-16.png\">\n",
    "<img src=\"ml project assignment-17.png\">\n",
    "<img src=\"ml project assignment-18.png\">\n",
    "\n"
   ]
  }
 ],
 "metadata": {
  "kernelspec": {
   "display_name": "Python 3",
   "language": "python",
   "name": "python3"
  },
  "language_info": {
   "codemirror_mode": {
    "name": "ipython",
    "version": 3
   },
   "file_extension": ".py",
   "mimetype": "text/x-python",
   "name": "python",
   "nbconvert_exporter": "python",
   "pygments_lexer": "ipython3",
   "version": "3.7.7"
  }
 },
 "nbformat": 4,
 "nbformat_minor": 4
}
