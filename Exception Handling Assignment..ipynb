{
 "cells": [
  {
   "cell_type": "markdown",
   "metadata": {},
   "source": [
    "1. Write a function to compute 5/0 and use try/except to catch the exceptions."
   ]
  },
  {
   "cell_type": "code",
   "execution_count": 15,
   "metadata": {},
   "outputs": [
    {
     "name": "stdout",
     "output_type": "stream",
     "text": [
      "we cannot devie by zero.\n"
     ]
    }
   ],
   "source": [
    "def divide(a,b):\n",
    "    try:\n",
    "        c = a/b\n",
    "    except:\n",
    "        print(\"we cannot devie by zero.\")\n",
    "    else:\n",
    "        print(\"division is : \",c)\n",
    "    \n",
    "divide(5,0)"
   ]
  },
  {
   "cell_type": "markdown",
   "metadata": {},
   "source": [
    "2. Implement a python program to generate all sentences where the subject is [\"Americans\",\"Indians\"] and verbs is in [\"play\",\"Watch\"] and the object is in [\"baseball\",\"cricket\"].\n",
    "\n",
    "Hint: Subject Verb and Object shold be declared in the program as shown below.\n",
    "\n",
    "    subject = [\"Americans\",\"Indians\"]\n",
    "    verbs   = [\"play\",\"watch\"]\n",
    "    Objects = [\"Baseball\",\"Cricket\"]\n",
    "\n",
    "**Output should come as below**\n",
    "\n",
    "    Americans play Baseball.\n",
    "    Americans play Cricket.\n",
    "    Americans watch Baseball.\n",
    "    Americans watch Cricket\n"
   ]
  },
  {
   "cell_type": "code",
   "execution_count": 23,
   "metadata": {},
   "outputs": [],
   "source": [
    "def gen_sentences():\n",
    "    subjects = [\"Americans\",'Indians']\n",
    "    verbs   = ['play','watch']\n",
    "    objects = ['Baseball','Cricket']\n",
    "    \n",
    "    for s in subjects:\n",
    "        for v in verbs:\n",
    "            for o in objects:\n",
    "                print(s,v,o+'.')"
   ]
  },
  {
   "cell_type": "code",
   "execution_count": 24,
   "metadata": {},
   "outputs": [
    {
     "name": "stdout",
     "output_type": "stream",
     "text": [
      "Americans play Baseball.\n",
      "Americans play Cricket.\n",
      "Americans watch Baseball.\n",
      "Americans watch Cricket.\n",
      "Indians play Baseball.\n",
      "Indians play Cricket.\n",
      "Indians watch Baseball.\n",
      "Indians watch Cricket.\n"
     ]
    }
   ],
   "source": [
    "gen_sentences()"
   ]
  },
  {
   "cell_type": "code",
   "execution_count": null,
   "metadata": {},
   "outputs": [],
   "source": []
  }
 ],
 "metadata": {
  "kernelspec": {
   "display_name": "Python 3",
   "language": "python",
   "name": "python3"
  },
  "language_info": {
   "codemirror_mode": {
    "name": "ipython",
    "version": 3
   },
   "file_extension": ".py",
   "mimetype": "text/x-python",
   "name": "python",
   "nbconvert_exporter": "python",
   "pygments_lexer": "ipython3",
   "version": "3.7.2"
  }
 },
 "nbformat": 4,
 "nbformat_minor": 4
}
