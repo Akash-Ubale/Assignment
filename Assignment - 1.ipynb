{
 "cells": [
  {
   "cell_type": "markdown",
   "metadata": {},
   "source": [
    "# Task 1"
   ]
  },
  {
   "cell_type": "markdown",
   "metadata": {},
   "source": [
    "2. Write  a  program  which  will  find  all  such  numbers  which  are  divisible  by  7  but  are  not  a  multiple of  5,  between  2000  and  3200  (both  included).  The  numbers  obtained  should  be  printed  in  a comma-separated  sequence  on  a  single  line. "
   ]
  },
  {
   "cell_type": "code",
   "execution_count": 11,
   "metadata": {
    "scrolled": false
   },
   "outputs": [
    {
     "name": "stdout",
     "output_type": "stream",
     "text": [
      "[2030, 2065, 2100, 2135, 2170, 2205, 2240, 2275, 2310, 2345, 2380, 2415, 2450, 2485, 2520, 2555, 2590, 2625, 2660, 2695, 2730, 2765, 2800, 2835, 2870, 2905, 2940, 2975, 3010, 3045, 3080, 3115, 3150, 3185]\n"
     ]
    }
   ],
   "source": [
    "# creating the list of required range. 2000 to 3200 both included\n",
    "\n",
    "l=[]\n",
    "i=0\n",
    "#iterating the for loop over the given range.\n",
    "for i in range(2000,3201):\n",
    "    if i%7==0 and i%5==0:\n",
    "        l.append(i)       # storing the value in the list.\n",
    "        \n",
    "print(l)\n",
    "    \n"
   ]
  },
  {
   "cell_type": "code",
   "execution_count": null,
   "metadata": {},
   "outputs": [],
   "source": []
  },
  {
   "cell_type": "markdown",
   "metadata": {},
   "source": [
    "3.   Write  a  Python  program  to  accept  the  user's  first  and  last  name  and  then  getting  them  printed  in the  the  reverse  order  with  a  space  between  first  name  and  last  name. "
   ]
  },
  {
   "cell_type": "code",
   "execution_count": 12,
   "metadata": {},
   "outputs": [
    {
     "name": "stdout",
     "output_type": "stream",
     "text": [
      "Enter your first name: Akash\n",
      "Enter your last name: Ubale\n",
      "Ubale Akash\n"
     ]
    }
   ],
   "source": [
    "fn=input(\"Enter your first name: \")\n",
    "ln=input(\"Enter your last name: \")\n",
    "print(ln + \" \" + fn)"
   ]
  },
  {
   "cell_type": "code",
   "execution_count": null,
   "metadata": {},
   "outputs": [],
   "source": []
  },
  {
   "cell_type": "markdown",
   "metadata": {},
   "source": [
    "4.   Write  a  Python  program  to  find  the  volume  of  a  sphere  with  diameter  12  cm.   Formula:  V=4/3  *  π  *  r  3 "
   ]
  },
  {
   "cell_type": "code",
   "execution_count": 11,
   "metadata": {
    "scrolled": true
   },
   "outputs": [
    {
     "name": "stdout",
     "output_type": "stream",
     "text": [
      "Volume of sphere :  904.608\n"
     ]
    }
   ],
   "source": [
    "d=12\n",
    "r=d/2\n",
    "v=(4/3)*3.141*r**3\n",
    "print(\"Volume of sphere : \",v)\n"
   ]
  },
  {
   "cell_type": "code",
   "execution_count": 8,
   "metadata": {},
   "outputs": [],
   "source": []
  },
  {
   "cell_type": "markdown",
   "metadata": {},
   "source": [
    "# Task 2"
   ]
  },
  {
   "cell_type": "markdown",
   "metadata": {},
   "source": [
    "1.   Write  a  program  which  accepts  a  sequence  of  comma-separated  numbers  from  console  and generate  a  list. "
   ]
  },
  {
   "cell_type": "code",
   "execution_count": null,
   "metadata": {
    "scrolled": true
   },
   "outputs": [],
   "source": [
    "i = 0 \n",
    "lst = []   # Creating a blank list.\n",
    "n = int(input(\"Enter the elements you want in your list:\"))\n",
    "j=1\n",
    "print(n)\n",
    "\n",
    "while i < n :\n",
    "    temp = input(\"Enter the elements no.\"+ str(j) + \" :\")\n",
    "    lst.append(temp)\n",
    "    i = i+1\n",
    "    j = j+1\n",
    "    \n",
    "print('\\n here is your list : ')\n",
    "lst"
   ]
  },
  {
   "cell_type": "markdown",
   "metadata": {},
   "source": [
    " "
   ]
  },
  {
   "cell_type": "markdown",
   "metadata": {},
   "source": [
    "2.   Create  the  below  pattern  using  nested  for  loop  in  Python. *   *  *   *  *  *   *  *  *  *   *  *  *  *  *   *  *  *  *   *  *  *   *  *   * "
   ]
  },
  {
   "cell_type": "code",
   "execution_count": null,
   "metadata": {},
   "outputs": [],
   "source": [
    "for i in range(0,5):        # for rows\n",
    "    for j in range(0,i+1):  # for columns\n",
    "        print(\"*\",end=\"\")   # to print the * and continue\n",
    "    print(\"\")\n",
    "i=0                         # To reset the variables\n",
    "j=0\n",
    "\n",
    "for i in range(4,0,-1):     # for the declining part.\n",
    "    for j in range(i,0,-1):\n",
    "        print(\"*\",end=\"\")\n",
    "    print(\"\")"
   ]
  },
  {
   "cell_type": "code",
   "execution_count": null,
   "metadata": {},
   "outputs": [],
   "source": []
  },
  {
   "cell_type": "markdown",
   "metadata": {},
   "source": [
    "3.   Write  a  Python  program  to  reverse  a  word  after  accepting  the  input  from  the  user. \n",
    "Sample  Output: ; \n",
    "Input  word:  AcadGild   ; \n",
    "Output:  dilGdacA "
   ]
  },
  {
   "cell_type": "code",
   "execution_count": 16,
   "metadata": {},
   "outputs": [
    {
     "name": "stdout",
     "output_type": "stream",
     "text": [
      "Input Word: Akash\n",
      "Output: hsakA"
     ]
    }
   ],
   "source": [
    "# Taking input n saving as a list\n",
    "word = list(input(\"Input Word: \"))\n",
    "word.reverse()            # to reverse the list\n",
    "n = len(word)             # to find the length of list\n",
    "print(\"Output: \",end=\"\")  \n",
    "for i in range(0,n):      # to print the list as a string and not as a list\n",
    "    print(word[i],end=\"\")"
   ]
  },
  {
   "cell_type": "code",
   "execution_count": null,
   "metadata": {},
   "outputs": [],
   "source": []
  },
  {
   "cell_type": "markdown",
   "metadata": {},
   "source": [
    "4.   Write  a  Python  Program  to  print  the  given  string  in  the  format  specified  in  the sample  output. WE,  THE  PEOPLE OF INDIA,  having  solemnly  resolved  to  constitute  India  into  a SOVEREIGN,  SOCIALIST,  SECULAR,  DEMOCRATIC  REPUBLIC  and  to  secure  to  all its  citizens Sample  Output: WE,  THE  PEOPLE OF INDIA,   having  solemnly  resolved  to  constitute  India  into  a  SOVEREIGN,  !   SOCIALIST,  SECULAR,  DEMOCRATIC  REPUBLIC   and  to  secure  to  all  its  citizens "
   ]
  },
  {
   "cell_type": "code",
   "execution_count": 4,
   "metadata": {},
   "outputs": [
    {
     "name": "stdout",
     "output_type": "stream",
     "text": [
      "WE, THE PEOPLE OF INDIA,\n",
      "    having solemnly resolved to constitute India into a SOVEREIGN,!\n",
      "\t   SOCIALIST,  SECULAR,  DEMOCRATIC  REPUBLIC \n",
      "\t    and  to  secure  to  all its  citizens\n"
     ]
    }
   ],
   "source": [
    "print(\"WE, THE PEOPLE OF INDIA,\\n    having solemnly resolved to constitute India into a SOVEREIGN,!\\n\\t   SOCIALIST,  SECULAR,  DEMOCRATIC  REPUBLIC \\n\\t    and  to  secure  to  all its  citizens\")\n"
   ]
  },
  {
   "cell_type": "code",
   "execution_count": null,
   "metadata": {},
   "outputs": [],
   "source": []
  }
 ],
 "metadata": {
  "kernelspec": {
   "display_name": "Python 3",
   "language": "python",
   "name": "python3"
  },
  "language_info": {
   "codemirror_mode": {
    "name": "ipython",
    "version": 3
   },
   "file_extension": ".py",
   "mimetype": "text/x-python",
   "name": "python",
   "nbconvert_exporter": "python",
   "pygments_lexer": "ipython3",
   "version": "3.7.2"
  }
 },
 "nbformat": 4,
 "nbformat_minor": 4
}
